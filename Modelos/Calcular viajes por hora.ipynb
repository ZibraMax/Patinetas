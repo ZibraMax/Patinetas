{
 "metadata": {
  "language_info": {
   "codemirror_mode": {
    "name": "ipython",
    "version": 3
   },
   "file_extension": ".py",
   "mimetype": "text/x-python",
   "name": "python",
   "nbconvert_exporter": "python",
   "pygments_lexer": "ipython3",
   "version": "3.7.9"
  },
  "orig_nbformat": 2,
  "kernelspec": {
   "name": "python379jvsc74a57bd00600588c3b5f4418cbe7b5ebc6825b479f3bc010269d8b60d75058cdd010adfe",
   "display_name": "Python 3.7.9 64-bit"
  }
 },
 "nbformat": 4,
 "nbformat_minor": 2,
 "cells": [
  {
   "cell_type": "code",
   "execution_count": 1,
   "metadata": {},
   "outputs": [],
   "source": [
    "import pandas as pd\n",
    "import numpy as np\n",
    "from tqdm import tqdm\n",
    "\n",
    "PATH_DATOS_BOGOTA = \"../Datos/Capas/bogota_data/bogota_data.csv\"\n",
    "\n",
    "# Leer datos\n",
    "df = pd.read_csv(PATH_DATOS_BOGOTA)\n",
    "\n",
    "# Eliminar datos que son nulos\n",
    "df.dropna(inplace=True)\n",
    "\n",
    "# Quedarse solo con las columnas interesantes (el tiempo todavía no lo tenemos en cuenta)\n",
    "dfviajes = df[['sta_geohash', 'end_geohash',\n",
    "               'sta_time_bogota', 'end_time_bogota']]\n"
   ]
  },
  {
   "cell_type": "code",
   "execution_count": 5,
   "metadata": {},
   "outputs": [
    {
     "output_type": "stream",
     "name": "stderr",
     "text": [
      "ipykernel_launcher:1: SettingWithCopyWarning: \nA value is trying to be set on a copy of a slice from a DataFrame.\nTry using .loc[row_indexer,col_indexer] = value instead\n\nSee the caveats in the documentation: https://pandas.pydata.org/pandas-docs/stable/user_guide/indexing.html#returning-a-view-versus-a-copy\n"
     ]
    },
    {
     "output_type": "execute_result",
     "data": {
      "text/plain": [
       "Timestamp('2021-05-14 15:53:12')"
      ]
     },
     "metadata": {},
     "execution_count": 5
    }
   ],
   "source": [
    "dfviajes['sta_time_bogota'] = pd.to_datetime(dfviajes['sta_time_bogota'])\n",
    "dfviajes['sta_time_bogota'][6]"
   ]
  },
  {
   "cell_type": "code",
   "execution_count": 33,
   "metadata": {},
   "outputs": [],
   "source": [
    "arreglo = dfviajes['sta_time_bogota'].values\n",
    "s = 0\n",
    "for i in rfarreglof      s+=pd.Timestamp(i).hour > 20\n",
    "  s+=dipd.Timestamp(i)our > 1< 5"
   ]
  },
  {
   "cell_type": "code",
   "execution_count": 34,
   "metadata": {},
   "outputs": [
    {
     "output_type": "execute_result",
     "data": {
      "text/plain": [
       "11"
      ]
     },
     "metadata": {},
     "execution_count": 34
    }
   ],
   "source": [
    "s"
   ]
  },
  {
   "cell_type": "code",
   "execution_count": 35,
   "metadata": {},
   "outputs": [
    {
     "output_type": "execute_result",
     "data": {
      "text/plain": [
       "578582"
      ]
     },
     "metadata": {},
     "execution_count": 35
    }
   ],
   "source": [
    "len(arreglo)-s"
   ]
  }
 ]
}